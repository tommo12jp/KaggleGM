{
 "cells": [
  {
   "cell_type": "code",
   "execution_count": 5,
   "id": "9ba0beff-c723-4264-9d6d-c5a5114c3d46",
   "metadata": {},
   "outputs": [],
   "source": [
    "import joblib\n",
    "import pandas as pd\n",
    "from sklearn import metrics\n",
    "from sklearn import tree"
   ]
  },
  {
   "cell_type": "code",
   "execution_count": 6,
   "id": "f61ff7a9-517c-4a66-9184-a4130bce98eb",
   "metadata": {},
   "outputs": [],
   "source": [
    "fold = 1"
   ]
  },
  {
   "cell_type": "code",
   "execution_count": 14,
   "id": "8b0ce9f2-53c5-42e7-ba83-b0f2fed1b8d2",
   "metadata": {},
   "outputs": [
    {
     "name": "stderr",
     "output_type": "stream",
     "text": [
      "usage: ipykernel_launcher.py [-h] [--fold FOLD]\n",
      "ipykernel_launcher.py: error: unrecognized arguments: -f /root/.local/share/jupyter/runtime/kernel-76930cbb-5a1b-412a-b060-930e05b5fce4.json\n"
     ]
    },
    {
     "ename": "SystemExit",
     "evalue": "2",
     "output_type": "error",
     "traceback": [
      "An exception has occurred, use %tb to see the full traceback.\n",
      "\u001b[0;31mSystemExit\u001b[0m\u001b[0;31m:\u001b[0m 2\n"
     ]
    }
   ],
   "source": [
    "import joblib\n",
    "import pandas as pd\n",
    "import argparse\n",
    "\n",
    "from sklearn import metrics\n",
    "from sklearn import tree\n",
    "\n",
    "def run(fold:int):\n",
    " \n",
    "    # CSVファイルをdfに読み込み\n",
    "    df = pd.read_csv(\"../input/mnist_train_folds.csv\")\n",
    "\n",
    "    # 引数のfold番号と一致しないデータを学習に使う\n",
    "    df_train = df[df.kfold!=fold].reset_index(drop=True)\n",
    "\n",
    "    # 引数のfold番号と一致するデータを検証に使う\n",
    "    df_test = df[df.kfold==fold].reset_index(drop=True)\n",
    "\n",
    "    # 目的変数の列を削除し、numpy配列に変換（学習）\n",
    "    X_train = df_train.drop(\"label\", axis=1).values\n",
    "    y_train = df_train.label.values\n",
    "\n",
    "    # 目的変数の列を削除し、numpy配列に変換（検証）\n",
    "    X_test = df_test.drop(\"label\", axis=1).values\n",
    "    y_test = df_test.label.values\n",
    "\n",
    "    # 決定枝クラスの初期化\n",
    "    clf = tree.DecisionTreeClassifier()\n",
    "\n",
    "    # モデルの学習\n",
    "    clf.fit(X_train, y_train)\n",
    "    \n",
    "    # 検証用データに対する予測\n",
    "    pred = clf.predict(X_test)\n",
    "\n",
    "    # 正答率を算出\n",
    "    accuracy = metrics.accuracy_score(y_test, pred)\n",
    "    print(f\"fold: {fold}, accuracy: {accuracy}\")\n",
    "\n",
    "    # モデル保存\n",
    "    joblib.dump(clf, f\"../models/dt_{fold}.bin\")\n",
    "\n",
    "if __name__ == \"__main__\":\n",
    "    # argparseの初期化\n",
    "    parser = argparse.ArgumentParser()\n",
    "    \n",
    "    # 引数と型を追加\n",
    "    parser.add_argument(\n",
    "        \"--fold\",\n",
    "        type=int\n",
    "    )\n",
    "    \n",
    "    args = parser.parse_args()\n",
    "    \n",
    "    # 引数で指定したfold番号について実行\n",
    "    run(fold=args.fold)"
   ]
  },
  {
   "cell_type": "code",
   "execution_count": 9,
   "id": "9645d287-decc-4b2e-a4bf-19b918966f54",
   "metadata": {},
   "outputs": [
    {
     "name": "stdout",
     "output_type": "stream",
     "text": [
      "Collecting argparse\n",
      "  Downloading argparse-1.4.0-py2.py3-none-any.whl (23 kB)\n",
      "Installing collected packages: argparse\n",
      "Successfully installed argparse-1.4.0\n"
     ]
    }
   ],
   "source": [
    "!pip install argparse"
   ]
  },
  {
   "cell_type": "code",
   "execution_count": 21,
   "id": "198e1fa1-d4c0-4b96-9298-2ade430fe677",
   "metadata": {},
   "outputs": [
    {
     "name": "stdout",
     "output_type": "stream",
     "text": [
      "models: decision_tree_gini\n",
      "fold: 0, accuracy: 0.8701666666666666\n"
     ]
    }
   ],
   "source": [
    "# trainの実行\n",
    "!python3 /home/jovyan/work/project/src/train.py --fold 0 --model decision_tree_gini"
   ]
  },
  {
   "cell_type": "code",
   "execution_count": 23,
   "id": "728e1b6a-db3f-40f7-ab6c-00844515fbd3",
   "metadata": {},
   "outputs": [
    {
     "name": "stdout",
     "output_type": "stream",
     "text": [
      "models: rf\n",
      "Killed\n"
     ]
    }
   ],
   "source": [
    "# trainの実行\n",
    "!python3 /home/jovyan/work/project/src/train.py --fold 0 --model rf"
   ]
  }
 ],
 "metadata": {
  "kernelspec": {
   "display_name": "Python 3 (ipykernel)",
   "language": "python",
   "name": "python3"
  },
  "language_info": {
   "codemirror_mode": {
    "name": "ipython",
    "version": 3
   },
   "file_extension": ".py",
   "mimetype": "text/x-python",
   "name": "python",
   "nbconvert_exporter": "python",
   "pygments_lexer": "ipython3",
   "version": "3.8.10"
  }
 },
 "nbformat": 4,
 "nbformat_minor": 5
}
