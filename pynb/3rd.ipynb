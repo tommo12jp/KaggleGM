{
 "cells": [
  {
   "cell_type": "code",
   "execution_count": 6,
   "id": "83faa1c1-0080-4f30-902b-6f63fc23658f",
   "metadata": {},
   "outputs": [],
   "source": [
    "def accuracy_score(y_true, y_pred) -> int:\n",
    "    \"\"\"\n",
    "    正答率計算用関数\n",
    "    y_true：正解リスト\n",
    "    y_pred：予測結果リスト\n",
    "    accuracy：正答率\n",
    "    \"\"\"\n",
    "    # 正解数\n",
    "    correct_count=0\n",
    "    for yt, yp in zip(y_true, y_pred):\n",
    "        if yt==yp:\n",
    "            correct_count += 1\n",
    "    \n",
    "    # 正答率を返す\n",
    "    accuracy = correct_count / len(y_true)\n",
    "    return accuracy"
   ]
  },
  {
   "cell_type": "code",
   "execution_count": 9,
   "id": "f3f7723b-652f-446f-877a-bc60e354366b",
   "metadata": {},
   "outputs": [
    {
     "data": {
      "text/plain": [
       "0.625"
      ]
     },
     "execution_count": 9,
     "metadata": {},
     "output_type": "execute_result"
    }
   ],
   "source": [
    "# 正答率の計算\n",
    "l1 = [0,1,1,1,1,0,0,1]\n",
    "l2 = [1,1,1,0,1,0,0,0]\n",
    "accuracy_score(l1, l2)"
   ]
  },
  {
   "cell_type": "code",
   "execution_count": 15,
   "id": "c9a2009a-fb19-4dd5-9e78-6548f69e4368",
   "metadata": {},
   "outputs": [
    {
     "ename": "NameError",
     "evalue": "name 'l1' is not defined",
     "output_type": "error",
     "traceback": [
      "\u001b[0;31m---------------------------------------------------------------------------\u001b[0m",
      "\u001b[0;31mNameError\u001b[0m                                 Traceback (most recent call last)",
      "\u001b[0;32m/tmp/ipykernel_17/3361973302.py\u001b[0m in \u001b[0;36m<module>\u001b[0;34m\u001b[0m\n\u001b[1;32m      1\u001b[0m \u001b[0;31m# sklearnのmetricsを使えば確認可能\u001b[0m\u001b[0;34m\u001b[0m\u001b[0;34m\u001b[0m\u001b[0;34m\u001b[0m\u001b[0m\n\u001b[1;32m      2\u001b[0m \u001b[0;32mfrom\u001b[0m \u001b[0msklearn\u001b[0m \u001b[0;32mimport\u001b[0m \u001b[0mmetrics\u001b[0m\u001b[0;34m\u001b[0m\u001b[0;34m\u001b[0m\u001b[0m\n\u001b[0;32m----> 3\u001b[0;31m \u001b[0mmetrics\u001b[0m\u001b[0;34m.\u001b[0m\u001b[0maccuracy_score\u001b[0m\u001b[0;34m(\u001b[0m\u001b[0ml1\u001b[0m\u001b[0;34m,\u001b[0m \u001b[0ml2\u001b[0m\u001b[0;34m)\u001b[0m\u001b[0;34m\u001b[0m\u001b[0;34m\u001b[0m\u001b[0m\n\u001b[0m",
      "\u001b[0;31mNameError\u001b[0m: name 'l1' is not defined"
     ]
    }
   ],
   "source": [
    "# sklearnのmetricsを使えば確認可能\n",
    "from sklearn import metrics\n",
    "metrics.accuracy_score(l1, l2)"
   ]
  },
  {
   "cell_type": "code",
   "execution_count": 2,
   "id": "fa552961-7bbe-4345-8397-4f9992826245",
   "metadata": {},
   "outputs": [],
   "source": [
    "def true_positive(y_true, y_pred) -> int:\n",
    "    \"\"\"\n",
    "    真陽性を計算する関数\n",
    "    y_true：正解リスト\n",
    "    y_pred：予測結果リスト\n",
    "    ture_positive：真陽性\n",
    "    \"\"\"\n",
    "    # 真陽性の数\n",
    "    true_positive_count=0\n",
    "    \n",
    "    for yt, yp in zip(y_true, y_pred):\n",
    "        if yt==1 and yp==1:\n",
    "            true_positive_count += 1\n",
    "    return true_positive_count\n",
    "\n",
    "def true_negative(y_true, y_pred) -> int:\n",
    "    \"\"\"\n",
    "    真陰性を計算する関数\n",
    "    y_true：正解リスト\n",
    "    y_pred：予測結果リスト\n",
    "    ture_positive：真陽性\n",
    "    \"\"\"\n",
    "    # 真陽性の数\n",
    "    true_negative_count=0\n",
    "    \n",
    "    for yt, yp in zip(y_true, y_pred):\n",
    "        if yt==0 and yp==0:\n",
    "            true_negative_count += 1\n",
    "    return true_negative_count\n",
    "\n",
    "def false_positive(y_true, y_pred) -> int:\n",
    "    \"\"\"\n",
    "    偽陽性を計算する関数\n",
    "    y_true：正解リスト\n",
    "    y_pred：予測結果リスト\n",
    "    false_positive：偽陽性\n",
    "    \"\"\"\n",
    "    # 真陽性の数\n",
    "    false_positive_count=0\n",
    "    \n",
    "    for yt, yp in zip(y_true, y_pred):\n",
    "        if yt==0 and yp==1:\n",
    "            false_positive_count += 1\n",
    "    return false_positive_count\n",
    "\n",
    "def false_negative(y_true, y_pred) -> int:\n",
    "    \"\"\"\n",
    "    偽陰性を計算する関数\n",
    "    y_true：正解リスト\n",
    "    y_pred：予測結果リスト\n",
    "    false_positive：偽陰性\n",
    "    \"\"\"\n",
    "    # 真陽性の数\n",
    "    false_negative_count=0\n",
    "    \n",
    "    for yt, yp in zip(y_true, y_pred):\n",
    "        if yt==1 and yp==0:\n",
    "            false_negative_count += 1\n",
    "    return false_negative_count"
   ]
  },
  {
   "cell_type": "code",
   "execution_count": 2,
   "id": "690a1719-60c4-4cfc-8217-471be43607c5",
   "metadata": {},
   "outputs": [
    {
     "data": {
      "text/plain": [
       "2"
      ]
     },
     "execution_count": 2,
     "metadata": {},
     "output_type": "execute_result"
    }
   ],
   "source": [
    "# 正答率の計算\n",
    "l1 = [0,1,1,1,1,0,0,1]\n",
    "l2 = [1,1,1,0,1,0,0,0]\n",
    "true_positive(l1, l2)\n",
    "false_positive(l1, l2)\n",
    "true_negative(l1, l2)\n",
    "false_negative(l1, l2)"
   ]
  },
  {
   "cell_type": "code",
   "execution_count": 3,
   "id": "fbc1582b-8985-49de-b2d6-a07ee5e55138",
   "metadata": {},
   "outputs": [],
   "source": [
    "def accuracy_v2(y_true, y_pred) -> int:\n",
    "    \"\"\"\n",
    "    正答率を算出\n",
    "    \"\"\"\n",
    "    tp = true_positive(y_true, y_pred)\n",
    "    tn = true_negative(y_true, y_pred)\n",
    "    fp = false_positive(y_true, y_pred)\n",
    "    fn = false_negative(y_true, y_pred)\n",
    "    accuracy_score = (tp + tn) / (tp + tn + fp + fn)\n",
    "    return accuracy_score"
   ]
  },
  {
   "cell_type": "code",
   "execution_count": 4,
   "id": "4c936bee-30b0-42fe-8a3f-debc0f6cd21a",
   "metadata": {},
   "outputs": [],
   "source": [
    "def precision(y_true, y_pred):\n",
    "    \"\"\"\n",
    "    適合性：真陽性/（真陽性＋偽陽性）\n",
    "    \"\"\"\n",
    "    tp = true_positive(y_true, y_pred)\n",
    "    tn = true_negative(y_true, y_pred)\n",
    "    fp = false_positive(y_true, y_pred)\n",
    "    fn = false_negative(y_true, y_pred)\n",
    "    precision = tp / (tp + fp)\n",
    "    return precision\n",
    "\n",
    "def recall(y_true, y_pred):\n",
    "    \"\"\"\n",
    "    再現性：真陽性/（真陽性＋偽陰性）\n",
    "    \"\"\"\n",
    "    tp = true_positive(y_true, y_pred)\n",
    "    tn = true_negative(y_true, y_pred)\n",
    "    fp = false_positive(y_true, y_pred)\n",
    "    fn = false_negative(y_true, y_pred)\n",
    "    return tp / (tp + fn)\n",
    "\n",
    "def f1(y_true, y_pred):\n",
    "    \"\"\"\n",
    "    F1スコアの計算\n",
    "    \"\"\"\n",
    "    p = precision(y_true, y_pred)\n",
    "    r = recall(y_true, y_pred)\n",
    "    f1 = 2 * p * r / (p + r)\n",
    "    return f1\n",
    "\n",
    "def tpr(y_true, y_pred):\n",
    "    \"\"\"\n",
    "    true pos rateの計算\n",
    "    \"\"\"\n",
    "    return recall(y_true, y_pred)\n",
    "\n",
    "def fpr(y_true, y_pred):\n",
    "    \"\"\"\n",
    "    false pos rateの計算\n",
    "    \"\"\"\n",
    "    tp = true_positive(y_true, y_pred)\n",
    "    tn = true_negative(y_true, y_pred)\n",
    "    fp = false_positive(y_true, y_pred)\n",
    "    fn = false_negative(y_true, y_pred)\n",
    "    fpr = fp / (tn + fp)\n",
    "    return fpr"
   ]
  },
  {
   "cell_type": "code",
   "execution_count": 11,
   "id": "af1f9f9d-6cd2-4e6c-8274-0dbb49a1a552",
   "metadata": {},
   "outputs": [],
   "source": [
    "tpr_list = []\n",
    "fpr_list = []\n",
    "\n",
    "# answer\n",
    "y_true = [0,1,1,1,1,0,1,1,0,1,0,1,1,0,1]\n",
    "\n",
    "# precision\n",
    "y_pred = [0.1,0.3,1,0.8,0.4,0.1,0.7,0,0.5,0,0,1,1,1,0]\n",
    "\n",
    "# threshold\n",
    "thresholds = [0,0.1,0.2,0.3,0,4,0.5,0.6,0.7,0.8,0.9,1.0]\n",
    "\n",
    "# calc\n",
    "for threshold in thresholds:\n",
    "    tmp_pred = [1 if x >= threshold else 0 for x in y_pred]\n",
    "    tmp_tpr = tpr(y_true, tmp_pred)\n",
    "    tmp_fpr = fpr(y_true, tmp_pred)\n",
    "    tpr_list.append(tmp_tpr)\n",
    "    fpr_list.append(tmp_fpr)"
   ]
  },
  {
   "cell_type": "code",
   "execution_count": 13,
   "id": "7b5bb479-da17-4afc-9ff5-1288c8784bc2",
   "metadata": {},
   "outputs": [
    {
     "data": {
      "text/plain": [
       "[1.0, 0.8, 0.4, 0.4, 1.0, 0.0, 0.4, 0.2, 0.2, 0.2, 0.2, 0.2]"
      ]
     },
     "execution_count": 13,
     "metadata": {},
     "output_type": "execute_result"
    }
   ],
   "source": [
    "fpr_list"
   ]
  },
  {
   "cell_type": "code",
   "execution_count": 7,
   "id": "d2dbae86-bd60-41e3-94ab-f3e192e51b0a",
   "metadata": {},
   "outputs": [],
   "source": [
    "import matplotlib.pyplot as plt"
   ]
  },
  {
   "cell_type": "code",
   "execution_count": 10,
   "id": "bdb9659a-7845-4e3e-abc7-bcd61f57b322",
   "metadata": {},
   "outputs": [
    {
     "data": {
      "text/plain": [
       "<function matplotlib.pyplot.show(close=None, block=None)>"
      ]
     },
     "execution_count": 10,
     "metadata": {},
     "output_type": "execute_result"
    },
    {
     "data": {
      "image/png": "[encoded data removed]",
      "text/plain": [
       "<Figure size 504x504 with 1 Axes>"
      ]
     },
     "metadata": {
      "needs_background": "light"
     },
     "output_type": "display_data"
    }
   ],
   "source": [
    "plt.figure(figsize=(7,7))\n",
    "plt.fill_between(fpr_list, tpr_list, alpha=0.4)\n",
    "plt.plot(fpr_list, tpr_list, lw=3)\n",
    "plt.xlim(0, 1)\n",
    "plt.ylim(0, 1)\n",
    "plt.show"
   ]
  },
  {
   "cell_type": "code",
   "execution_count": 16,
   "id": "26926ad3-f7cd-4369-880d-fb3e0e108f70",
   "metadata": {},
   "outputs": [
    {
     "data": {
      "text/plain": [
       "0.58"
      ]
     },
     "execution_count": 16,
     "metadata": {},
     "output_type": "execute_result"
    }
   ],
   "source": [
    "metrics.roc_auc_score(y_true, y_pred)"
   ]
  },
  {
   "cell_type": "code",
   "execution_count": 17,
   "id": "872e96d1-bcaf-48d6-9e6f-1536011613b0",
   "metadata": {},
   "outputs": [],
   "source": [
    "tp_list = []\n",
    "fp_list = []\n",
    "\n",
    "# answer\n",
    "y_true = [0,1,1,1,1,0,1,1,0,1,0,1,1,0,1]\n",
    "\n",
    "# precision\n",
    "y_pred = [0.1,0.3,1,0.8,0.4,0.1,0.7,0,0.5,0,0,1,1,1,0]\n",
    "\n",
    "# threshold\n",
    "thresholds = [0,0.1,0.2,0.3,0,4,0.5,0.6,0.7,0.8,0.9,1.0]\n",
    "\n",
    "# calc\n",
    "for threshold in thresholds:\n",
    "    tmp_pred = [1 if x >= threshold else 0 for x in y_pred]\n",
    "    tmp_tp = true_positive(y_true, tmp_pred)\n",
    "    tmp_fp = false_positive(y_true, tmp_pred)\n",
    "    tp_list.append(tmp_tp)\n",
    "    fp_list.append(tmp_fp)"
   ]
  },
  {
   "cell_type": "code",
   "execution_count": 20,
   "id": "a8cf0e34-0aee-45c6-9ad1-e50b8f607572",
   "metadata": {},
   "outputs": [
    {
     "data": {
      "text/plain": [
       "[5, 4, 2, 2, 5, 0, 2, 1, 1, 1, 1, 1]"
      ]
     },
     "execution_count": 20,
     "metadata": {},
     "output_type": "execute_result"
    }
   ],
   "source": [
    "fp_list"
   ]
  },
  {
   "cell_type": "code",
   "execution_count": 18,
   "id": "4983502d-829b-4ea3-8828-53d7ac10e950",
   "metadata": {},
   "outputs": [
    {
     "data": {
      "text/plain": [
       "<function matplotlib.pyplot.show(close=None, block=None)>"
      ]
     },
     "execution_count": 18,
     "metadata": {},
     "output_type": "execute_result"
    },
    {
     "data": {
      "image/png": "[encoded data removed]",
      "text/plain": [
       "<Figure size 504x504 with 1 Axes>"
      ]
     },
     "metadata": {
      "needs_background": "light"
     },
     "output_type": "display_data"
    }
   ],
   "source": [
    "plt.figure(figsize=(7,7))\n",
    "plt.fill_between(fp_list, tp_list, alpha=0.4)\n",
    "plt.plot(fp_list, tp_list, lw=3)\n",
    "plt.xlim(0, 1)\n",
    "plt.ylim(0, 1)\n",
    "plt.show"
   ]
  },
  {
   "cell_type": "code",
   "execution_count": 21,
   "id": "d96acf37-3544-4e49-b9b6-f6cf2872fd4e",
   "metadata": {},
   "outputs": [],
   "source": [
    "import numpy as np\n",
    "\n",
    "def log_loss(y_true, y_proba):\n",
    "    \"\"\"\n",
    "    loglossを計算する関数\n",
    "    y_true：正解のリスト\n",
    "    y_proba：陽性の予測確率のリスト\n",
    "    \"\"\"\n",
    "    # epsilonの定義\n",
    "    epsilon = 1e-15\n",
    "    \n",
    "    # 個々のサンプルに対する損失関数のリスト\n",
    "    loss = []\n",
    "    \n",
    "    # 各サンプルをループ\n",
    "    for yt, yp in zip(y_true, y_proba):\n",
    "        # 予測確率を調整するクリッピング処理\n",
    "        yp = np.clip(yp, epsilon, 1- epsilon)\n",
    "        \n",
    "        # loglossの計算\n",
    "        tmp_loss = (-1.0) * (\n",
    "            yt * np.log(yp)\n",
    "            + (1 - yt) * np.log(1 - yp)\n",
    "        )\n",
    "        loss.append(tmp_loss)\n",
    "    \n",
    "    # 平均値を返す\n",
    "    return np.mean(loss)\n",
    "        "
   ]
  },
  {
   "cell_type": "code",
   "execution_count": 22,
   "id": "04421abd-1266-47a3-95c6-9234f3bc4fda",
   "metadata": {},
   "outputs": [
    {
     "data": {
      "text/plain": [
       "9.450657028026772"
      ]
     },
     "execution_count": 22,
     "metadata": {},
     "output_type": "execute_result"
    }
   ],
   "source": [
    "# answer\n",
    "y_true = [0,1,1,1,1,0,1,1,0,1,0,1,1,0,1]\n",
    "\n",
    "# precision\n",
    "y_proba = [0.1,0.3,1,0.8,0.4,0.1,0.7,0,0.5,0,0,1,1,1,0]\n",
    "\n",
    "log_loss(y_true, y_proba)"
   ]
  },
  {
   "cell_type": "code",
   "execution_count": 25,
   "id": "6278044c-5bb6-4faf-bd68-7c67338bef05",
   "metadata": {},
   "outputs": [
    {
     "data": {
      "text/plain": [
       "9.450657028026772"
      ]
     },
     "execution_count": 25,
     "metadata": {},
     "output_type": "execute_result"
    }
   ],
   "source": [
    "metrics.log_loss(y_true, y_proba)"
   ]
  },
  {
   "cell_type": "code",
   "execution_count": 27,
   "id": "c3480fb1-447a-4d75-8a4f-dfd877a8d9f6",
   "metadata": {},
   "outputs": [],
   "source": [
    "import numpy as np\n",
    "\n",
    "def macro_precision(y_true, y_pred):\n",
    "    # クラス数を取得\n",
    "    num_classes = len(np.unique(y_true))\n",
    "    \n",
    "    # 初期化\n",
    "    precision = 0\n",
    "    \n",
    "    # ループ\n",
    "    for class_ in range(num_classes):\n",
    "        tmp_true = [1 if p == class_ else 0 for p in y_true]\n",
    "        tmp_pred = [1 if p == class_ else 0 for p in y_pred]\n",
    "        \n",
    "        # 真陽性を計算\n",
    "        tp = true_positive(tmp_true, tmp_pred)\n",
    "        \n",
    "        # 偽陽性を計算\n",
    "        fp = false_positive(tmp_true, tmp_pred)\n",
    "        \n",
    "        # 適合率を計算\n",
    "        tmp_precision = tp / (tp + fp)\n",
    "        \n",
    "        # 適合率を足し合わせる\n",
    "        precision += tmp_precision\n",
    "    \n",
    "    # 平均の適合率を返す\n",
    "    mean_precison = precision / len(num_classes)\n",
    "    return precision\n",
    "\n",
    "def micro_precision(y_true, y_pred):\n",
    "    # クラス数を取得\n",
    "    num_classes = len(np.unique(y_true))\n",
    "    \n",
    "    # 初期化\n",
    "    precision = 0\n",
    "    \n",
    "    # ループ\n",
    "    for class_ in range(num_classes):\n",
    "        tmp_true = [1 if p == class_ else 0 for p in y_true]\n",
    "        tmp_pred = [1 if p == class_ else 0 for p in y_pred]\n",
    "        \n",
    "        # 真陽性を計算\n",
    "        tmp_tp = true_positive(tmp_true, tmp_pred)\n",
    "        \n",
    "        # 偽陽性を計算\n",
    "        tmp_fp = false_positive(tmp_true, tmp_pred)\n",
    "        \n",
    "        tp += tmp_tp\n",
    "        fp += tmp_fp\n",
    "        \n",
    "    # 適合率を計算\n",
    "    precision = tp / (tp + fp)\n",
    "    return precision\n",
    "\n",
    "\n",
    "\n",
    "from collections import Counter\n",
    "\n",
    "def weighted_precision(y_true, y_pred):\n",
    "    # クラス数を取得\n",
    "    num_classes = len(np.unique(y_true))\n",
    "    \n",
    "    # クラスの重みを取得\n",
    "    class_count = Counter(y_true)\n",
    "    \n",
    "    # 初期化\n",
    "    precision = 0\n",
    "    \n",
    "    # ループ\n",
    "    for class_ in range(num_classes):\n",
    "        tmp_true = [1 if p == class_ else 0 for p in y_true]\n",
    "        tmp_pred = [1 if p == class_ else 0 for p in y_pred]\n",
    "        \n",
    "        # 真陽性を計算\n",
    "        tp = true_positive(tmp_true, tmp_pred)\n",
    "        \n",
    "        # 偽陽性を計算\n",
    "        fp = false_positive(tmp_true, tmp_pred)\n",
    "        \n",
    "        # 適合率を計算\n",
    "        tmp_precision = tp / (tp + fp)\n",
    "        \n",
    "        # 重みつきの適合率を足し合わせる\n",
    "        weighted_precision = class_count[class_] * tmp_precision\n",
    "        precision += weighted_precision\n",
    "    \n",
    "    # 全サンプル数で割る\n",
    "    overall_precision = precision / len(y_true)\n",
    "    return overall_precision"
   ]
  },
  {
   "cell_type": "code",
   "execution_count": 28,
   "id": "c2bdd952-6f5c-48dc-aa9d-dda62f58e74f",
   "metadata": {},
   "outputs": [],
   "source": [
    "# 他クラス分類の再現率\n",
    "from collections import Counter\n",
    "\n",
    "def weighted_f1(y_true, y_pred):\n",
    "    # クラス数を取得\n",
    "    num_classes = len(np.unique(y_true))\n",
    "    \n",
    "    # クラスの重みを取得\n",
    "    class_count = Counter(y_true)\n",
    "    \n",
    "    # 初期化\n",
    "    f1 = 0\n",
    "    \n",
    "    # ループ\n",
    "    for class_ in range(num_classes):\n",
    "        tmp_true = [1 if p == class_ else 0 for p in y_true]\n",
    "        tmp_pred = [1 if p == class_ else 0 for p in y_pred]\n",
    "        \n",
    "        # 真陽性を計算\n",
    "        p = precision(tmp_true, tmp_pred)\n",
    "        \n",
    "        # 偽陽性を計算\n",
    "        r = recall(tmp_true, tmp_pred)\n",
    "        \n",
    "        # f1スコアを計算\n",
    "        if p + r != 0:\n",
    "            tmp_f1 = 2 * p * r / (p + r)\n",
    "        else:\n",
    "            tmp_f1 = 0\n",
    "        \n",
    "        # 重みつきの適合率を足し合わせる\n",
    "        weighted_f1 = class_count[class_] * tmp_f1\n",
    "        f1 += weighted_f1\n",
    "    \n",
    "    # 全サンプル数で割る\n",
    "    overall_f1 = f1 / len(y_true)\n",
    "    return overall_f1"
   ]
  },
  {
   "cell_type": "code",
   "execution_count": 30,
   "id": "b6c5cf0f-dbc9-4afa-b0ab-f513474f7274",
   "metadata": {},
   "outputs": [
    {
     "name": "stdout",
     "output_type": "stream",
     "text": [
      "Collecting seaborn\n",
      "  Downloading seaborn-0.11.2-py3-none-any.whl (292 kB)\n",
      "\u001b[K     |████████████████████████████████| 292 kB 1.7 MB/s eta 0:00:01     |███████████████████             | 174 kB 1.7 MB/s eta 0:00:01\n",
      "\u001b[?25hRequirement already satisfied: numpy>=1.15 in /usr/local/lib/python3.8/dist-packages (from seaborn) (1.21.4)\n",
      "Requirement already satisfied: scipy>=1.0 in /usr/local/lib/python3.8/dist-packages (from seaborn) (1.7.3)\n",
      "Requirement already satisfied: pandas>=0.23 in /usr/local/lib/python3.8/dist-packages (from seaborn) (1.3.4)\n",
      "Requirement already satisfied: matplotlib>=2.2 in /usr/local/lib/python3.8/dist-packages (from seaborn) (3.5.0)\n",
      "Requirement already satisfied: python-dateutil>=2.7.3 in /usr/local/lib/python3.8/dist-packages (from pandas>=0.23->seaborn) (2.8.2)\n",
      "Requirement already satisfied: pytz>=2017.3 in /usr/local/lib/python3.8/dist-packages (from pandas>=0.23->seaborn) (2021.3)\n",
      "Requirement already satisfied: cycler>=0.10 in /usr/local/lib/python3.8/dist-packages (from matplotlib>=2.2->seaborn) (0.11.0)\n",
      "Requirement already satisfied: packaging>=20.0 in /usr/local/lib/python3.8/dist-packages (from matplotlib>=2.2->seaborn) (21.3)\n",
      "Requirement already satisfied: fonttools>=4.22.0 in /usr/local/lib/python3.8/dist-packages (from matplotlib>=2.2->seaborn) (4.28.3)\n",
      "Requirement already satisfied: setuptools-scm>=4 in /usr/local/lib/python3.8/dist-packages (from matplotlib>=2.2->seaborn) (6.3.2)\n",
      "Requirement already satisfied: kiwisolver>=1.0.1 in /usr/local/lib/python3.8/dist-packages (from matplotlib>=2.2->seaborn) (1.3.2)\n",
      "Requirement already satisfied: pillow>=6.2.0 in /usr/local/lib/python3.8/dist-packages (from matplotlib>=2.2->seaborn) (8.4.0)\n",
      "Requirement already satisfied: pyparsing>=2.2.1 in /usr/local/lib/python3.8/dist-packages (from matplotlib>=2.2->seaborn) (3.0.6)\n",
      "Requirement already satisfied: six>=1.5 in /usr/local/lib/python3.8/dist-packages (from python-dateutil>=2.7.3->pandas>=0.23->seaborn) (1.16.0)\n",
      "Requirement already satisfied: tomli>=1.0.0 in /usr/local/lib/python3.8/dist-packages (from setuptools-scm>=4->matplotlib>=2.2->seaborn) (1.2.2)\n",
      "Requirement already satisfied: setuptools in /usr/lib/python3/dist-packages (from setuptools-scm>=4->matplotlib>=2.2->seaborn) (45.2.0)\n",
      "Installing collected packages: seaborn\n",
      "Successfully installed seaborn-0.11.2\n"
     ]
    }
   ],
   "source": [
    "!pip install seaborn"
   ]
  },
  {
   "cell_type": "code",
   "execution_count": 31,
   "id": "0dceca49-32fd-4985-a4ff-6187f5398b68",
   "metadata": {},
   "outputs": [
    {
     "ename": "AttributeError",
     "evalue": "module 'seaborn' has no attribute 'cubehelix_pallete'",
     "output_type": "error",
     "traceback": [
      "\u001b[0;31m---------------------------------------------------------------------------\u001b[0m",
      "\u001b[0;31mAttributeError\u001b[0m                            Traceback (most recent call last)",
      "\u001b[0;32m/tmp/ipykernel_17/6146432.py\u001b[0m in \u001b[0;36m<module>\u001b[0;34m\u001b[0m\n\u001b[1;32m     12\u001b[0m \u001b[0;34m\u001b[0m\u001b[0m\n\u001b[1;32m     13\u001b[0m \u001b[0mplt\u001b[0m\u001b[0;34m.\u001b[0m\u001b[0mfigure\u001b[0m\u001b[0;34m(\u001b[0m\u001b[0mfigsize\u001b[0m\u001b[0;34m=\u001b[0m\u001b[0;34m(\u001b[0m\u001b[0;36m10\u001b[0m\u001b[0;34m,\u001b[0m\u001b[0;36m10\u001b[0m\u001b[0;34m)\u001b[0m\u001b[0;34m)\u001b[0m\u001b[0;34m\u001b[0m\u001b[0;34m\u001b[0m\u001b[0m\n\u001b[0;32m---> 14\u001b[0;31m \u001b[0mcmap\u001b[0m \u001b[0;34m=\u001b[0m \u001b[0msns\u001b[0m\u001b[0;34m.\u001b[0m\u001b[0mcubehelix_pallete\u001b[0m\u001b[0;34m(\u001b[0m\u001b[0;36m50\u001b[0m\u001b[0;34m,\u001b[0m \u001b[0mannot\u001b[0m\u001b[0;34m=\u001b[0m\u001b[0;32mTrue\u001b[0m\u001b[0;34m,\u001b[0m \u001b[0mcmap\u001b[0m\u001b[0;34m=\u001b[0m\u001b[0mcmap\u001b[0m\u001b[0;34m,\u001b[0m \u001b[0mcbar\u001b[0m\u001b[0;34m=\u001b[0m\u001b[0;32mFalse\u001b[0m\u001b[0;34m)\u001b[0m\u001b[0;34m\u001b[0m\u001b[0;34m\u001b[0m\u001b[0m\n\u001b[0m",
      "\u001b[0;31mAttributeError\u001b[0m: module 'seaborn' has no attribute 'cubehelix_pallete'"
     ]
    },
    {
     "data": {
      "text/plain": [
       "<Figure size 720x720 with 0 Axes>"
      ]
     },
     "metadata": {},
     "output_type": "display_data"
    }
   ],
   "source": [
    "import matplotlib.pyplot as plt\n",
    "import seaborn as sns\n",
    "from sklearn import metrics\n",
    "\n",
    "# answer\n",
    "y_true = [0,0,2,1,1,1,2,1,0,1,1,1,1,2,1]\n",
    "\n",
    "# precision\n",
    "y_pred = [0,2,2,1,0,1,1,1,1,2,0,1,0,2,1]\n",
    "\n",
    "cm = metrics.confusion_matrix(y_true, y_pred)\n",
    "\n",
    "plt.figure(figsize=(10,10))\n",
    "cmap = sns.cubehelix_pallete(50, annot=True, cmap=cmap, cbar=False)\n"
   ]
  },
  {
   "cell_type": "code",
   "execution_count": 33,
   "id": "868bc586-fef6-4d0f-8897-83a68627a16c",
   "metadata": {},
   "outputs": [],
   "source": [
    "def pk(y_true, y_pred, k):\n",
    "    \"\"\"\n",
    "    precision at kを算出\n",
    "    予測値の上位kクラスのうち、正解となるクラスの割合\n",
    "    \"\"\"\n",
    "    \n",
    "    if k==0:\n",
    "        return 0\n",
    "    \n",
    "    # 予測クラスの上位k個\n",
    "    y_pred = y_pred[:k]\n",
    "    \n",
    "    # 予測クラスをsetに変換して重複を排除\n",
    "    pred_set = set(y_pred)\n",
    "    \n",
    "    # 正解クラスをsetに変換して重複を排除\n",
    "    true_set = set(y_true)\n",
    "    \n",
    "    # 共通しているクラスを積集合として取得\n",
    "    common_values = pred_set.intersection(true_set)\n",
    "    \n",
    "    # 共通しているクラス数をkで割った値を返す\n",
    "    return len(common_values) / len(y_pred[:k])"
   ]
  },
  {
   "cell_type": "code",
   "execution_count": 46,
   "id": "b04a0425-b1d7-44b0-8ef2-f6b890d2fd81",
   "metadata": {},
   "outputs": [],
   "source": [
    "def apk(y_true, y_pred, k):\n",
    "    \"\"\"\n",
    "    precision at kを算出\n",
    "    予測値の上位kクラスのうち、正解となるクラスの割合\n",
    "    \"\"\"\n",
    "    # リストの初期化\n",
    "    pk_values = []\n",
    "    \n",
    "    # ループ\n",
    "    for i in range(1, k+1):\n",
    "        pk_values.append(pk(y_true, y_pred, i))\n",
    "    # リストが空の場合0を返す\n",
    "    if len(pk_values) == 0:\n",
    "        return 0\n",
    "                         \n",
    "    return sum(pk_values) / len(pk_values)"
   ]
  },
  {
   "cell_type": "code",
   "execution_count": null,
   "id": "6ab9541c-7680-433e-83a1-2af87efd0e35",
   "metadata": {},
   "outputs": [],
   "source": []
  }
 ],
 "metadata": {
  "kernelspec": {
   "display_name": "Python 3 (ipykernel)",
   "language": "python",
   "name": "python3"
  },
  "language_info": {
   "codemirror_mode": {
    "name": "ipython",
    "version": 3
   },
   "file_extension": ".py",
   "mimetype": "text/x-python",
   "name": "python",
   "nbconvert_exporter": "python",
   "pygments_lexer": "ipython3",
   "version": "3.8.10"
  }
 },
 "nbformat": 4,
 "nbformat_minor": 5
}
