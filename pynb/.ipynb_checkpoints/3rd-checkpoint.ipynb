{
 "cells": [
  {
   "cell_type": "code",
   "execution_count": 6,
   "id": "83faa1c1-0080-4f30-902b-6f63fc23658f",
   "metadata": {},
   "outputs": [],
   "source": [
    "def accuracy_score(y_true, y_pred) -> int:\n",
    "    \"\"\"\n",
    "    正答率計算用関数\n",
    "    y_true：正解リスト\n",
    "    y_pred：予測結果リスト\n",
    "    accuracy：正答率\n",
    "    \"\"\"\n",
    "    # 正解数\n",
    "    correct_count=0\n",
    "    for yt, yp in zip(y_true, y_pred):\n",
    "        if yt==yp:\n",
    "            correct_count += 1\n",
    "    \n",
    "    # 正答率を返す\n",
    "    accuracy = correct_count / len(y_true)\n",
    "    return accuracy"
   ]
  },
  {
   "cell_type": "code",
   "execution_count": 9,
   "id": "f3f7723b-652f-446f-877a-bc60e354366b",
   "metadata": {},
   "outputs": [
    {
     "data": {
      "text/plain": [
       "0.625"
      ]
     },
     "execution_count": 9,
     "metadata": {},
     "output_type": "execute_result"
    }
   ],
   "source": [
    "# 正答率の計算\n",
    "l1 = [0,1,1,1,1,0,0,1]\n",
    "l2 = [1,1,1,0,1,0,0,0]\n",
    "accuracy_score(l1, l2)"
   ]
  },
  {
   "cell_type": "code",
   "execution_count": 10,
   "id": "c9a2009a-fb19-4dd5-9e78-6548f69e4368",
   "metadata": {},
   "outputs": [
    {
     "data": {
      "text/plain": [
       "0.625"
      ]
     },
     "execution_count": 10,
     "metadata": {},
     "output_type": "execute_result"
    }
   ],
   "source": [
    "# sklearnのmetricsを使えば確認可能\n",
    "from sklearn import metrics\n",
    "metrics.accuracy_score(l1, l2)"
   ]
  },
  {
   "cell_type": "code",
   "execution_count": 1,
   "id": "fa552961-7bbe-4345-8397-4f9992826245",
   "metadata": {},
   "outputs": [],
   "source": [
    "def true_positive(y_true, y_pred) -> int:\n",
    "    \"\"\"\n",
    "    真陽性を計算する関数\n",
    "    y_true：正解リスト\n",
    "    y_pred：予測結果リスト\n",
    "    ture_positive：真陽性\n",
    "    \"\"\"\n",
    "    # 真陽性の数\n",
    "    true_positive_count=0\n",
    "    \n",
    "    for yt, yp in zip(y_true, y_pred):\n",
    "        if yt==1 and yp==1:\n",
    "            true_positive_count += 1\n",
    "    return true_positive_count\n",
    "\n",
    "def true_negative(y_true, y_pred) -> int:\n",
    "    \"\"\"\n",
    "    真陰性を計算する関数\n",
    "    y_true：正解リスト\n",
    "    y_pred：予測結果リスト\n",
    "    ture_positive：真陽性\n",
    "    \"\"\"\n",
    "    # 真陽性の数\n",
    "    true_negative_count=0\n",
    "    \n",
    "    for yt, yp in zip(y_true, y_pred):\n",
    "        if yt==0 and yp==0:\n",
    "            true_negative_count += 1\n",
    "    return true_negative_count\n",
    "\n",
    "def false_positive(y_true, y_pred) -> int:\n",
    "    \"\"\"\n",
    "    偽陽性を計算する関数\n",
    "    y_true：正解リスト\n",
    "    y_pred：予測結果リスト\n",
    "    false_positive：偽陽性\n",
    "    \"\"\"\n",
    "    # 真陽性の数\n",
    "    false_positive_count=0\n",
    "    \n",
    "    for yt, yp in zip(y_true, y_pred):\n",
    "        if yt==0 and yp==1:\n",
    "            false_positive_count += 1\n",
    "    return false_positive_count\n",
    "\n",
    "def false_negative(y_true, y_pred) -> int:\n",
    "    \"\"\"\n",
    "    偽陰性を計算する関数\n",
    "    y_true：正解リスト\n",
    "    y_pred：予測結果リスト\n",
    "    false_positive：偽陰性\n",
    "    \"\"\"\n",
    "    # 真陽性の数\n",
    "    false_negative_count=0\n",
    "    \n",
    "    for yt, yp in zip(y_true, y_pred):\n",
    "        if yt==1 and yp==0:\n",
    "            false_negative_count += 1\n",
    "    return false_negative_count"
   ]
  },
  {
   "cell_type": "code",
   "execution_count": 2,
   "id": "690a1719-60c4-4cfc-8217-471be43607c5",
   "metadata": {},
   "outputs": [
    {
     "data": {
      "text/plain": [
       "2"
      ]
     },
     "execution_count": 2,
     "metadata": {},
     "output_type": "execute_result"
    }
   ],
   "source": [
    "# 正答率の計算\n",
    "l1 = [0,1,1,1,1,0,0,1]\n",
    "l2 = [1,1,1,0,1,0,0,0]\n",
    "true_positive(l1, l2)\n",
    "false_positive(l1, l2)\n",
    "true_negative(l1, l2)\n",
    "false_negative(l1, l2)"
   ]
  },
  {
   "cell_type": "code",
   "execution_count": 3,
   "id": "fbc1582b-8985-49de-b2d6-a07ee5e55138",
   "metadata": {},
   "outputs": [],
   "source": [
    "def accuracy_v2(y_true, y_pred) -> int:\n",
    "    \"\"\"\n",
    "    正答率を算出\n",
    "    \"\"\"\n",
    "    tp = true_positive(y_true, y_pred)\n",
    "    tn = true_negative(y_true, y_pred)\n",
    "    fp = false_positive(y_true, y_pred)\n",
    "    fn = false_negative(y_true, y_pred)\n",
    "    accuracy_score = (tp + tn) / (tp + tn + fp + fn)\n",
    "    return accuracy_score"
   ]
  },
  {
   "cell_type": "code",
   "execution_count": 25,
   "id": "4c936bee-30b0-42fe-8a3f-debc0f6cd21a",
   "metadata": {},
   "outputs": [],
   "source": [
    "def precision(y_true, y_pred):\n",
    "    \"\"\"\n",
    "    適合性：真陽性/（真陽性＋偽陽性）\n",
    "    \"\"\"\n",
    "    tp = true_positive(y_true, y_pred)\n",
    "    tn = true_negative(y_true, y_pred)\n",
    "    fp = false_positive(y_true, y_pred)\n",
    "    fn = false_negative(y_true, y_pred)\n",
    "    precision = tp / (tp + fp)\n",
    "    return precision\n",
    "\n",
    "def recall(y_true, y_pred):\n",
    "    \"\"\"\n",
    "    再現性：真陽性/（真陽性＋偽陰性）\n",
    "    \"\"\"\n",
    "    tp = true_positive(y_true, y_pred)\n",
    "    tn = true_negative(y_true, y_pred)\n",
    "    fp = false_positive(y_true, y_pred)\n",
    "    fn = false_negative(y_true, y_pred)\n",
    "    return tp / (tp + fn)\n",
    "\n",
    "def f1(y_true, y_pred):\n",
    "    \"\"\"\n",
    "    F1スコアの計算\n",
    "    \"\"\"\n",
    "    p = precision(y_true, y_pred)\n",
    "    r = recall(y_true, y_pred)\n",
    "    f1 = 2 * p * r / (p + r)\n",
    "    return f1\n",
    "\n",
    "def tpr(y_true, y_pred):\n",
    "    \"\"\"\n",
    "    true pos rateの計算\n",
    "    \"\"\"\n",
    "    return recall(y_true, y_pred)\n",
    "\n",
    "def fpr(y_true, y_pred):\n",
    "    \"\"\"\n",
    "    false pos rateの計算\n",
    "    \"\"\"\n",
    "    tp = true_positive(y_true, y_pred)\n",
    "    tn = true_negative(y_true, y_pred)\n",
    "    fp = false_positive(y_true, y_pred)\n",
    "    fn = false_negative(y_true, y_pred)\n",
    "    fpr = fp / (tn + fp)\n",
    "    return fpr"
   ]
  },
  {
   "cell_type": "code",
   "execution_count": 26,
   "id": "af1f9f9d-6cd2-4e6c-8274-0dbb49a1a552",
   "metadata": {},
   "outputs": [],
   "source": [
    "tpr_list = []\n",
    "fpr_list = []\n",
    "\n",
    "# answer\n",
    "y_true = [0,1,1,1,1,0,1,1,0,1,0,1,1,0,1]\n",
    "\n",
    "# precision\n",
    "y_pred = [0.1,0.3,1,0.8,0.4,0.1,0.7,0,0.5,0,0,1,1,1,0]\n",
    "\n",
    "# threshold\n",
    "thresholds = [0,0.1,0.2,0.3,0,4,0.5,0.6,0.7,0.8,0.9,1.0]\n",
    "\n",
    "# calc\n",
    "for threshold in thresholds:\n",
    "    tmp_pred = [1 if x >= threshold else 0 for x in y_pred]\n",
    "    tmp_tpr = tpr(y_true, tmp_pred)\n",
    "    tmp_fpr = fpr(y_true, tmp_pred)\n",
    "    tpr_list.append(tmp_tpr)\n",
    "    fpr_list.append(tmp_fpr)"
   ]
  },
  {
   "cell_type": "code",
   "execution_count": 17,
   "id": "bdb9659a-7845-4e3e-abc7-bcd61f57b322",
   "metadata": {},
   "outputs": [
    {
     "data": {
      "text/plain": [
       "0.5"
      ]
     },
     "execution_count": 23,
     "metadata": {},
     "output_type": "execute_result"
    }
   ],
   "source": [
    "true_positive(y_true, y_pred)"
   ]
  },
  {
   "cell_type": "code",
   "execution_count": 27,
   "id": "872e96d1-bcaf-48d6-9e6f-1536011613b0",
   "metadata": {},
   "outputs": [
    {
     "data": {
      "text/plain": [
       "0.5"
      ]
     },
     "execution_count": 27,
     "metadata": {},
     "output_type": "execute_result"
    }
   ],
   "source": [
    "tpr(y_true, y_pred)"
   ]
  }
 ],
 "metadata": {
  "kernelspec": {
   "display_name": "Python 3 (ipykernel)",
   "language": "python",
   "name": "python3"
  },
  "language_info": {
   "codemirror_mode": {
    "name": "ipython",
    "version": 3
   },
   "file_extension": ".py",
   "mimetype": "text/x-python",
   "name": "python",
   "nbconvert_exporter": "python",
   "pygments_lexer": "ipython3",
   "version": "3.8.10"
  }
 },
 "nbformat": 4,
 "nbformat_minor": 5
}
