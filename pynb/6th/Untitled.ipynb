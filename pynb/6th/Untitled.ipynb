{
 "cells": [
  {
   "cell_type": "code",
   "execution_count": 11,
   "id": "06939953-b1d8-4942-b560-acebfdb86a78",
   "metadata": {},
   "outputs": [],
   "source": [
    "import pandas as pd\n",
    "import datetime as dt\n",
    "\n",
    "#10時間の頻度でdatetime型の列を作成\n",
    "s = pd.date_range('2020-01-06', '2020-01-10', freq='10H').to_series()\n",
    "\n",
    "# datetimeの中から特徴量を抽出\n",
    "features = {\n",
    "    \"dayofweek\": s.dt.dayofweek.values,\n",
    "    \"dayofyear\": s.dt.dayofyear.values,\n",
    "    \"hour\": s.dt.hour.values,\n",
    "    \"is_leap_year\": s.dt.is_leap_year.values,\n",
    "    \"weekofyear\": s.dt.isocalendar().week   \n",
    "}"
   ]
  },
  {
   "cell_type": "code",
   "execution_count": 12,
   "id": "e32315c4-7b63-4f74-9e65-db1734ee501a",
   "metadata": {},
   "outputs": [
    {
     "data": {
      "text/plain": [
       "{'dayofweek': array([0, 0, 0, 1, 1, 2, 2, 2, 3, 3]),\n",
       " 'dayofyear': array([6, 6, 6, 7, 7, 8, 8, 8, 9, 9]),\n",
       " 'hour': array([ 0, 10, 20,  6, 16,  2, 12, 22,  8, 18]),\n",
       " 'is_leap_year': array([ True,  True,  True,  True,  True,  True,  True,  True,  True,\n",
       "         True]),\n",
       " 'weekofyear': 2020-01-06 00:00:00    2\n",
       " 2020-01-06 10:00:00    2\n",
       " 2020-01-06 20:00:00    2\n",
       " 2020-01-07 06:00:00    2\n",
       " 2020-01-07 16:00:00    2\n",
       " 2020-01-08 02:00:00    2\n",
       " 2020-01-08 12:00:00    2\n",
       " 2020-01-08 22:00:00    2\n",
       " 2020-01-09 08:00:00    2\n",
       " 2020-01-09 18:00:00    2\n",
       " Freq: 10H, Name: week, dtype: UInt32}"
      ]
     },
     "execution_count": 12,
     "metadata": {},
     "output_type": "execute_result"
    }
   ],
   "source": [
    "features"
   ]
  },
  {
   "cell_type": "code",
   "execution_count": 16,
   "id": "d402fae2-3c81-4a9e-bead-44f5a6b33a7a",
   "metadata": {},
   "outputs": [],
   "source": [
    "# 2x100のDFを作成\n",
    "import numpy as np\n",
    "\n",
    "df = pd.DataFrame(\n",
    "    np.random.rand(100, 2),\n",
    "    columns=[f\"f_{i}\" for i in range(1, 3)]\n",
    ")"
   ]
  },
  {
   "cell_type": "code",
   "execution_count": 19,
   "id": "9ee395fb-e7f0-4a3a-9151-7bf46a5936d1",
   "metadata": {},
   "outputs": [],
   "source": [
    "from sklearn import preprocessing\n",
    "import numpy as np\n",
    "\n",
    "df = pd.DataFrame(\n",
    "    np.random.rand(100, 2),\n",
    "    columns=[f\"f_{i}\" for i in range(1, 3)]\n",
    ")\n",
    "\n",
    "# 2次の多項式を作成\n",
    "pf = preprocessing.PolynomialFeatures(\n",
    "    degree=2,\n",
    "    interaction_only=False,\n",
    "    include_bias=False\n",
    ")\n",
    "\n",
    "# 特徴量を学習\n",
    "pf.fit(df)\n",
    "\n",
    "# 変換\n",
    "poly_feats = pf.transform(df)\n",
    "\n",
    "# DFの作成\n",
    "num_feats = poly_feats.shape[1]\n",
    "df_transformed = pd.DataFrame(\n",
    "    poly_feats,\n",
    "    columns=[f\"f_{i}\" for i in range(1, num_feats + 1)]\n",
    ")"
   ]
  },
  {
   "cell_type": "code",
   "execution_count": 23,
   "id": "95708c89-b8bb-4d02-b6f7-d43bde06dda0",
   "metadata": {},
   "outputs": [],
   "source": [
    "# 量的変数の列を１０のビンに分割\n",
    "df[\"f_bin_10\"] = pd.cut(df[\"f_1\"], bins=10, labels=False)"
   ]
  },
  {
   "cell_type": "code",
   "execution_count": 24,
   "id": "eeb19878-da5c-44f0-9c89-7670e7dcd3df",
   "metadata": {},
   "outputs": [
    {
     "data": {
      "text/html": [
       "<div>\n",
       "<style scoped>\n",
       "    .dataframe tbody tr th:only-of-type {\n",
       "        vertical-align: middle;\n",
       "    }\n",
       "\n",
       "    .dataframe tbody tr th {\n",
       "        vertical-align: top;\n",
       "    }\n",
       "\n",
       "    .dataframe thead th {\n",
       "        text-align: right;\n",
       "    }\n",
       "</style>\n",
       "<table border=\"1\" class=\"dataframe\">\n",
       "  <thead>\n",
       "    <tr style=\"text-align: right;\">\n",
       "      <th></th>\n",
       "      <th>f_1</th>\n",
       "      <th>f_2</th>\n",
       "      <th>f_bin_10</th>\n",
       "    </tr>\n",
       "  </thead>\n",
       "  <tbody>\n",
       "    <tr>\n",
       "      <th>0</th>\n",
       "      <td>0.360418</td>\n",
       "      <td>0.019429</td>\n",
       "      <td>3</td>\n",
       "    </tr>\n",
       "    <tr>\n",
       "      <th>1</th>\n",
       "      <td>0.070716</td>\n",
       "      <td>0.448929</td>\n",
       "      <td>0</td>\n",
       "    </tr>\n",
       "    <tr>\n",
       "      <th>2</th>\n",
       "      <td>0.440191</td>\n",
       "      <td>0.544863</td>\n",
       "      <td>4</td>\n",
       "    </tr>\n",
       "    <tr>\n",
       "      <th>3</th>\n",
       "      <td>0.822592</td>\n",
       "      <td>0.377725</td>\n",
       "      <td>8</td>\n",
       "    </tr>\n",
       "    <tr>\n",
       "      <th>4</th>\n",
       "      <td>0.701643</td>\n",
       "      <td>0.382990</td>\n",
       "      <td>7</td>\n",
       "    </tr>\n",
       "    <tr>\n",
       "      <th>...</th>\n",
       "      <td>...</td>\n",
       "      <td>...</td>\n",
       "      <td>...</td>\n",
       "    </tr>\n",
       "    <tr>\n",
       "      <th>95</th>\n",
       "      <td>0.082920</td>\n",
       "      <td>0.828981</td>\n",
       "      <td>0</td>\n",
       "    </tr>\n",
       "    <tr>\n",
       "      <th>96</th>\n",
       "      <td>0.392997</td>\n",
       "      <td>0.034602</td>\n",
       "      <td>3</td>\n",
       "    </tr>\n",
       "    <tr>\n",
       "      <th>97</th>\n",
       "      <td>0.908375</td>\n",
       "      <td>0.888053</td>\n",
       "      <td>9</td>\n",
       "    </tr>\n",
       "    <tr>\n",
       "      <th>98</th>\n",
       "      <td>0.333652</td>\n",
       "      <td>0.738406</td>\n",
       "      <td>3</td>\n",
       "    </tr>\n",
       "    <tr>\n",
       "      <th>99</th>\n",
       "      <td>0.695716</td>\n",
       "      <td>0.953148</td>\n",
       "      <td>6</td>\n",
       "    </tr>\n",
       "  </tbody>\n",
       "</table>\n",
       "<p>100 rows × 3 columns</p>\n",
       "</div>"
      ],
      "text/plain": [
       "         f_1       f_2  f_bin_10\n",
       "0   0.360418  0.019429         3\n",
       "1   0.070716  0.448929         0\n",
       "2   0.440191  0.544863         4\n",
       "3   0.822592  0.377725         8\n",
       "4   0.701643  0.382990         7\n",
       "..       ...       ...       ...\n",
       "95  0.082920  0.828981         0\n",
       "96  0.392997  0.034602         3\n",
       "97  0.908375  0.888053         9\n",
       "98  0.333652  0.738406         3\n",
       "99  0.695716  0.953148         6\n",
       "\n",
       "[100 rows x 3 columns]"
      ]
     },
     "execution_count": 24,
     "metadata": {},
     "output_type": "execute_result"
    }
   ],
   "source": [
    "df"
   ]
  }
 ],
 "metadata": {
  "kernelspec": {
   "display_name": "Python 3 (ipykernel)",
   "language": "python",
   "name": "python3"
  },
  "language_info": {
   "codemirror_mode": {
    "name": "ipython",
    "version": 3
   },
   "file_extension": ".py",
   "mimetype": "text/x-python",
   "name": "python",
   "nbconvert_exporter": "python",
   "pygments_lexer": "ipython3",
   "version": "3.8.10"
  }
 },
 "nbformat": 4,
 "nbformat_minor": 5
}
